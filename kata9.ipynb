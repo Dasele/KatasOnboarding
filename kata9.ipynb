{
 "cells": [
  {
   "cell_type": "markdown",
   "metadata": {},
   "source": [
    "## Ejercicio 1: Trabajar con argumentos en funciones"
   ]
  },
  {
   "cell_type": "code",
   "execution_count": 12,
   "metadata": {},
   "outputs": [
    {
     "name": "stdout",
     "output_type": "stream",
     "text": [
      "Reporte de combustible\n",
      "---------------------\n",
      "Tanque 1: 40%\n",
      "Tanque 2: 50%\n",
      "Tanque 3: 70%\n",
      "El valor promedio es del 53.3%\n"
     ]
    }
   ],
   "source": [
    "def reporte(tanque1,tanque2,tanque3):\n",
    "    return f\"\"\"Reporte de combustible\n",
    "---------------------\n",
    "Tanque 1: {tanque1}%\n",
    "Tanque 2: {tanque2}%\n",
    "Tanque 3: {tanque3}%\"\"\"\n",
    "\n",
    "def promedio(tanque1,tanque2,tanque3):\n",
    "    total = tanque1+tanque2+tanque3\n",
    "    return f\"\"\"El valor promedio es del {round(total / 3,1)}%\"\"\"\n",
    "\n",
    "print(reporte(40,50,70))\n",
    "print(promedio(40,50,70))\n",
    "\n"
   ]
  },
  {
   "cell_type": "code",
   "execution_count": 15,
   "metadata": {},
   "outputs": [
    {
     "name": "stdout",
     "output_type": "stream",
     "text": [
      "\n",
      "Mission to Marte\n",
      "Total travel time: 17 minutes\n",
      "Total fuel left: 282805\n",
      "\n",
      "A Tanque1 le faltan 45682 litros\n",
      "A Tanque2 le faltan 237123 litros\n",
      "\n"
     ]
    }
   ],
   "source": [
    "def reporte_de_lanzamiento(destino, *minutos, **tanques):\n",
    "    reporte_completo = f\"\"\"\n",
    "Mission to {destino}\n",
    "Total travel time: {sum(minutos)} minutes\n",
    "Total fuel left: {sum(tanques.values())}\n",
    "\n",
    "\"\"\"\n",
    "    for tanque, litros in tanques.items():\n",
    "        reporte_completo += f\"\"\"A {tanque} le faltan {litros} litros\\n\"\"\"\n",
    "    return reporte_completo\n",
    "\n",
    "print(reporte_de_lanzamiento(\"Marte\", 4, 6, 7, Tanque1=45682, Tanque2=237123))"
   ]
  }
 ],
 "metadata": {
  "interpreter": {
   "hash": "a5cde1aeacd3fe3ecb953cd8efb57fa5ce81356fee40e3d4e38c83ea0bb051b4"
  },
  "kernelspec": {
   "display_name": "Python 3.10.2 64-bit (windows store)",
   "language": "python",
   "name": "python3"
  },
  "language_info": {
   "codemirror_mode": {
    "name": "ipython",
    "version": 3
   },
   "file_extension": ".py",
   "mimetype": "text/x-python",
   "name": "python",
   "nbconvert_exporter": "python",
   "pygments_lexer": "ipython3",
   "version": "3.10.2"
  },
  "orig_nbformat": 4
 },
 "nbformat": 4,
 "nbformat_minor": 2
}
