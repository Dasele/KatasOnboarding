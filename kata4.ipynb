{
 "cells": [
  {
   "cell_type": "markdown",
   "metadata": {},
   "source": [
    "## Ejercicio 1: Transformar cadenas"
   ]
  },
  {
   "cell_type": "code",
   "execution_count": 8,
   "metadata": {},
   "outputs": [
    {
     "name": "stdout",
     "output_type": "stream",
     "text": [
      "Interesting facts about the Moon\n",
      "The Moon is Earth's only satellite\n",
      "There are several interesting facts about the Moon and how it affects life here on Earth\n",
      "\n",
      "On average, the Moon moves 4cm away from the Earth every year\n",
      "This yearly drift is not significant enough to cause immediate effects on Earth\n",
      "The highest daylight temperature of the Moon is 127 Celsius.\n"
     ]
    }
   ],
   "source": [
    "text = \"\"\"Interesting facts about the Moon. The Moon is Earth's only satellite. There are several interesting facts about the Moon and how it affects life here on Earth. \n",
    "On average, the Moon moves 4cm away from the Earth every year. This yearly drift is not significant enough to cause immediate effects on Earth. The highest daylight temperature of the Moon is 127 C.\"\"\"\n",
    "\n",
    "oraciones=text.split('. ')\n",
    "\n",
    "palabras_clave=[\"average\",\"temperature\",\"distance\"]\n",
    "\n",
    "for sentence in oraciones:\n",
    "    for palabras_clave in oraciones:\n",
    "        if palabras_clave in sentence:\n",
    "\n",
    "            print(sentence.replace(' C', ' Celsius'))\n",
    "            break"
   ]
  },
  {
   "cell_type": "markdown",
   "metadata": {},
   "source": [
    "## Ejercicio 2: Formateando Cadenas"
   ]
  },
  {
   "cell_type": "code",
   "execution_count": 28,
   "metadata": {},
   "outputs": [
    {
     "name": "stdout",
     "output_type": "stream",
     "text": [
      "Gravity facts about Marte\n",
      "-----------------------------------------\n",
      "Planet: Tierra\n",
      "Gravity on Marte: 1.62 m/s\n"
     ]
    }
   ],
   "source": [
    "name = \"Marte\"\n",
    "gravity = 0.00162 # in kms\n",
    "planet = \"Ganimedes\"\n",
    "\n",
    "header=f\"Gravity facts about {name}\"\n",
    "header.title()\n",
    "plantilla=f\"\"\"-----------------------------------------\n",
    "Planet: {planet}\n",
    "Gravity on {name}: {round(gravity*1000,2)} m/s\"\"\"\n",
    "\n",
    "facts=f\"\"\"{header}\\n{plantilla}\"\"\"\n",
    "\n",
    "print(facts)\n"
   ]
  }
 ],
 "metadata": {
  "interpreter": {
   "hash": "a5cde1aeacd3fe3ecb953cd8efb57fa5ce81356fee40e3d4e38c83ea0bb051b4"
  },
  "kernelspec": {
   "display_name": "Python 3.10.2 64-bit (windows store)",
   "language": "python",
   "name": "python3"
  },
  "language_info": {
   "codemirror_mode": {
    "name": "ipython",
    "version": 3
   },
   "file_extension": ".py",
   "mimetype": "text/x-python",
   "name": "python",
   "nbconvert_exporter": "python",
   "pygments_lexer": "ipython3",
   "version": "3.10.2"
  },
  "orig_nbformat": 4
 },
 "nbformat": 4,
 "nbformat_minor": 2
}
