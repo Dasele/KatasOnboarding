{
 "cells": [
  {
   "cell_type": "markdown",
   "metadata": {},
   "source": [
    "## Ejercicio1 - Utilizar operadores aritméticos"
   ]
  },
  {
   "cell_type": "code",
   "execution_count": 2,
   "metadata": {},
   "outputs": [],
   "source": [
    "#Almacenamiento de valores\n",
    "\n",
    "distancia_tierra=149597870\n",
    "distancia_jupiter=778547200"
   ]
  },
  {
   "cell_type": "code",
   "execution_count": 5,
   "metadata": {},
   "outputs": [
    {
     "name": "stdout",
     "output_type": "stream",
     "text": [
      "628949330\n",
      "390577534.0\n"
     ]
    }
   ],
   "source": [
    "#Operación\n",
    "\n",
    "diferencia=distancia_jupiter-distancia_tierra\n",
    "print(diferencia)\n",
    "diferencia_millas=diferencia*0.621\n",
    "print(round(diferencia_millas,0))"
   ]
  },
  {
   "cell_type": "markdown",
   "metadata": {},
   "source": [
    "## Ejercicio 2: convierte cadenas en números y usa valores absolutos"
   ]
  },
  {
   "cell_type": "code",
   "execution_count": 8,
   "metadata": {},
   "outputs": [],
   "source": [
    "planeta_1=input(\"Introduce la distancia del primer planeta: \")\n",
    "planeta_2=input(\"Introduce la distancia del segundo planeta: \")\n",
    "planeta_1=int(planeta_1)\n",
    "planeta_2=int(planeta_2)\n",
    "distancia=abs(planeta_1-planeta_2)\n",
    "print(distancia)"
   ]
  }
 ],
 "metadata": {
  "interpreter": {
   "hash": "a5cde1aeacd3fe3ecb953cd8efb57fa5ce81356fee40e3d4e38c83ea0bb051b4"
  },
  "kernelspec": {
   "display_name": "Python 3.10.2 64-bit (windows store)",
   "language": "python",
   "name": "python3"
  },
  "language_info": {
   "codemirror_mode": {
    "name": "ipython",
    "version": 3
   },
   "file_extension": ".py",
   "mimetype": "text/x-python",
   "name": "python",
   "nbconvert_exporter": "python",
   "pygments_lexer": "ipython3",
   "version": "3.10.2"
  },
  "orig_nbformat": 4
 },
 "nbformat": 4,
 "nbformat_minor": 2
}
