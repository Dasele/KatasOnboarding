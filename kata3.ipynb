{
 "cells": [
  {
   "cell_type": "markdown",
   "metadata": {},
   "source": [
    "## Ejercicio - Escribir declaraciones if, else, y elif\n",
    "\n",
    "a) Para este ejercicio, escribirás una lógica condicional que imprima una advertencia si un asteroide se acerca a la Tierra demasiado rápido. La velocidad del asteroide varía dependiendo de lo cerca que esté del sol, y cualquier velocidad superior a 25 kilómetros por segundo (km/s) merece una advertencia.\n",
    "\n",
    "Un asteroide se acerca, y viaja a una velocidad de 49 km/s.\n",
    "\n",
    "b) Si un asteroide entra en la atmósfera de la Tierra a una velocidad mayor o igual a 20 km/s, a veces produce un rayo de luz que se puede ver desde la Tierra. Escribe la lógica condicional que usa declaraciones if, else, y elif para alertar a las personas de todo el mundo que deben buscar un asteroide en el cielo. ¡Hay uno que se dirige a la tierra ahora a una velocidad de 19 km/s!"
   ]
  },
  {
   "cell_type": "code",
   "execution_count": 15,
   "metadata": {},
   "outputs": [
    {
     "name": "stdout",
     "output_type": "stream",
     "text": [
      "¡Alerta, se acerca un esteroide desde el Sol a una velocidad de 49 km/h!\n"
     ]
    }
   ],
   "source": [
    "# a)\n",
    "\n",
    "asteroidesol=49 #Velocidad del asteroide cerca del Sol\n",
    "\n",
    "if asteroidesol > 25:\n",
    "    print (\"¡Alerta, se acerca un esteroide desde el Sol a una velocidad de \"+str(asteroidesol)+\" km/h!\")\n",
    "else:\n",
    "    print(\"El día de hoy se pronostica un clima soleado\")\n",
    "\n",
    "# b)\n",
    "\n",
    "asteroidetierra=19 #Velocidad del asteroide cerca de la atmósfera de la Tierra\n",
    "\n",
    "if asteroidetierra >= 20:\n",
    "    print (\"¡Se acerca un asteroide a \"+str(asteroidetierra)+\" km/h! ¡A todas las personas del mundo, busquen ese asteroide!\")\n",
    "elif asteroidetierra < 20:\n",
    "    print(\"Se acerca un asteroide a la Tierra pero no pasa nada porque se desintegrara antes de chocar\")"
   ]
  },
  {
   "cell_type": "markdown",
   "metadata": {},
   "source": [
    "## Ejercicio: Uso de operadores and y or\n",
    "\n",
    "En este ejercicio, aprenderás información más matizada sobre cuándo los asteroides representan un peligro para la Tierra, y utilizarás esa información para mejorar nuestro sistema de advertencia. Aquí está la nueva información que necesitas saber:\n",
    "\n",
    "*Los asteroides de menos de 25 metros en su dimensión más grande probablemente se quemarán a medida que entren en la atmósfera de la Tierra.\n",
    "\n",
    "Si una pieza de un asteroide que es más grande que 25 metros pero más pequeña que 1000 metros golpeara la Tierra, causaría mucho daño.\n",
    "También discutimos en el ejercicio anterior que:\n",
    "\n",
    "La velocidad del asteroide varía en función de lo cerca que esté del sol, y cualquier velocidad superior a 25 kilómetros por segundo (km/s) merece una advertencia.\n",
    "Si un asteroide entra en la atmósfera de la Tierra a una velocidad mayor o igual a 20 km/s, a veces produce un rayo de luz que se puede ver desde la Tierra.\n",
    "Usando toda esta información, escribe un programa que emita la advertencia o información correcta a la gente de la Tierra, según la velocidad y el tamaño de un asteroide. Utiliza instrucciones if, else, y elif, así como los operadores and y or."
   ]
  },
  {
   "cell_type": "code",
   "execution_count": 22,
   "metadata": {},
   "outputs": [
    {
     "name": "stdout",
     "output_type": "stream",
     "text": [
      "¡Alerta, se acerca un esteroide desde el Sol a una velocidad de 58 km/h!\n",
      "Ya valio, abracen a sus familias, que estos podrían ser los últimos momentos de la Tierra\n"
     ]
    }
   ],
   "source": [
    "asteroidesize=56 #Tamaño del asteroide en metros\n",
    "# a)\n",
    "\n",
    "vasteroidesol=58 #Velocidad del asteroide cerca del Sol\n",
    "\n",
    "if vasteroidesol > 25:\n",
    "    print (\"¡Alerta, se acerca un esteroide desde el Sol a una velocidad de \"+str(vasteroidesol)+\" km/h!\")\n",
    "else:\n",
    "    print(\"El día de hoy se pronostica un clima soleado\")\n",
    "\n",
    "# b)\n",
    "\n",
    "vasteroidetierra=19 #Velocidad del asteroide cerca de la atmósfera de la Tierra\n",
    "\n",
    "if vasteroidetierra >= 20 and asteroidesize < 25:\n",
    "    print (\"¡Se acerca un asteroide a \"+str(vasteroidetierra)+\" km/h! Sin embargo, se desintegrara sin causar daños a la Tierra\")\n",
    "elif vasteroidetierra < 20 and asteroidesize < 25:\n",
    "    print (\"El dia de hoy tendremos un clima soleado con asteroides desintegrandose\")\n",
    "elif vasteroidetierra >= 20 or asteroidesize >= 25:\n",
    "    print(\"Ya valio, abracen a sus familias, que estos podrían ser los últimos momentos de la Tierra\")"
   ]
  }
 ],
 "metadata": {
  "interpreter": {
   "hash": "a5cde1aeacd3fe3ecb953cd8efb57fa5ce81356fee40e3d4e38c83ea0bb051b4"
  },
  "kernelspec": {
   "display_name": "Python 3.10.2 64-bit (windows store)",
   "language": "python",
   "name": "python3"
  },
  "language_info": {
   "codemirror_mode": {
    "name": "ipython",
    "version": 3
   },
   "file_extension": ".py",
   "mimetype": "text/x-python",
   "name": "python",
   "nbconvert_exporter": "python",
   "pygments_lexer": "ipython3",
   "version": "3.10.2"
  },
  "orig_nbformat": 4
 },
 "nbformat": 4,
 "nbformat_minor": 2
}
