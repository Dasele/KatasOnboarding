{
 "cells": [
  {
   "cell_type": "markdown",
   "metadata": {},
   "source": [
    "## Ejercicio1: Crear y usar listas de Python"
   ]
  },
  {
   "cell_type": "code",
   "execution_count": 2,
   "metadata": {},
   "outputs": [
    {
     "name": "stdout",
     "output_type": "stream",
     "text": [
      "There are 8 planets\n",
      "Plutón es el último planeta\n"
     ]
    }
   ],
   "source": [
    "planets=['Mercurio','Venus','Tierra','Marte','Jupiter','Saturno','Urano','Neptuno']\n",
    "print('There are', len(planets), 'planets')\n",
    "\n",
    "planets.append('Plutón')\n",
    "\n",
    "print(planets[-1],'es el último planeta')\n"
   ]
  },
  {
   "cell_type": "markdown",
   "metadata": {},
   "source": [
    "## Ejercicio 2: Trabajando con datos de una lista"
   ]
  },
  {
   "cell_type": "code",
   "execution_count": 6,
   "metadata": {},
   "outputs": [
    {
     "name": "stdout",
     "output_type": "stream",
     "text": [
      "Earth\n",
      "Closest planets from Earth are\n",
      "['Mercury', 'Venus']\n",
      "Farthest planets from Earth are\n",
      "['Mars', 'Jupiter', 'Saturn', 'Neptune']\n"
     ]
    }
   ],
   "source": [
    "planets = ['Mercury', 'Venus', 'Earth', 'Mars', 'Jupiter', 'Saturn', 'Neptune']\n",
    "registro_usuario=input(\"Input the name of a planet starting with a uppercase: \")\n",
    "print(registro_usuario)\n",
    "buscador=planets.index(registro_usuario)\n",
    "\n",
    "#Planetas más cercanos al Sol del seleccionado\n",
    "print(\"Closest planets from \"+registro_usuario+\" are\")\n",
    "print(planets[0:buscador])\n",
    "\n",
    "#Planetas más alejados del seleccionado\n",
    "print(\"Farthest planets from \"+registro_usuario+\" are\")\n",
    "print(planets[buscador+1:])\n"
   ]
  }
 ],
 "metadata": {
  "interpreter": {
   "hash": "a5cde1aeacd3fe3ecb953cd8efb57fa5ce81356fee40e3d4e38c83ea0bb051b4"
  },
  "kernelspec": {
   "display_name": "Python 3.10.2 64-bit (windows store)",
   "language": "python",
   "name": "python3"
  },
  "language_info": {
   "codemirror_mode": {
    "name": "ipython",
    "version": 3
   },
   "file_extension": ".py",
   "mimetype": "text/x-python",
   "name": "python",
   "nbconvert_exporter": "python",
   "pygments_lexer": "ipython3",
   "version": "3.10.2"
  },
  "orig_nbformat": 4
 },
 "nbformat": 4,
 "nbformat_minor": 2
}
